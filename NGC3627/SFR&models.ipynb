{
 "cells": [
  {
   "cell_type": "markdown",
   "metadata": {},
   "source": [
    "# В этом файле рассмотрим различные метрики для сравнения SFR и механизмов звездообразования"
   ]
  },
  {
   "cell_type": "code",
   "execution_count": 1,
   "metadata": {},
   "outputs": [
    {
     "name": "stdout",
     "output_type": "stream",
     "text": [
      "Using matplotlib backend: TkAgg\n",
      "Populating the interactive namespace from numpy and matplotlib\n"
     ]
    }
   ],
   "source": [
    "import numpy as np\n",
    "import os\n",
    "%pylab\n",
    "%matplotlib inline\n",
    "%run ./load_notebook.py"
   ]
  },
  {
   "cell_type": "code",
   "execution_count": 2,
   "metadata": {},
   "outputs": [],
   "source": [
    "Sigma_H2 = np.load('./data/Sigma_H2.npy')\n",
    "Sigma_SFR = np.load('./data/Sigma_SFR.npy')\n",
    "sigma_HI = np.load('./data/sigma_HI.npy')\n",
    "Sigma_HI = np.load('./data/Sigma_HI.npy')\n",
    "vel_HI = np.load('./data/vel_HI.npy')\n",
    "r_HI = np.load('./data/r_HI.npy')\n",
    "dist_kpc = np.load('./data/dist_kpc_corr.npy')\n",
    "Qeff_min = np.load('./data/Qeff_min.npy')\n",
    "Qeff_max = np.load('./data/Qeff_max.npy')\n",
    "Qg = np.load('./data/Qg.npy')\n"
   ]
  },
  {
   "cell_type": "code",
   "execution_count": null,
   "metadata": {},
   "outputs": [],
   "source": []
  },
  {
   "cell_type": "code",
   "execution_count": 18,
   "metadata": {},
   "outputs": [],
   "source": [
    "velocity_approx = poly1d(polyfit(r_HI, vel_HI, deg=4))\n",
    "shear_method = np.zeros(dist_kpc.shape)\n",
    "G = 4.32\n",
    "Sigma_crit = np.zeros(dist_kpc.shape)\n",
    "for i, row in enumerate(dist_kpc):\n",
    "    for j, col in enumerate(dist_kpc[0]):\n",
    " \n",
    "        A = 0.5 * (velocity_approx(dist_kpc[i][j]) / dist_kpc[i][j] - velocity_approx.deriv()(dist_kpc[i][j]))  \n",
    "        sigma_g = sigma_HI[i][j]/1000.\n",
    "  \n",
    "        Sigma_crit[i][j] = A * sigma_g / np.pi / G # без умножения на alpha_A\n",
    "        Sigma_gas = 1.36*(Sigma_HI[i][j] + Sigma_H2[i][j])\n",
    "        shear_method[i][j] = Sigma_crit[i][j] / Sigma_gas "
   ]
  },
  {
   "cell_type": "code",
   "execution_count": 22,
   "metadata": {},
   "outputs": [],
   "source": [
    "def maps(model=None, slim=None, mlim=None, cut=None):\n",
    "    \"Эта функция строит карты со значениями 0\\1(0-устойчивость, 1-неустойчивость)\"\n",
    "    \"model = 'Qeff_min', 'Qeff_max', 'Qg', 'shear_method', 'Sigma_HI', 'Sigma_H2'\"\n",
    "    \"slim - предельное значение для log10(Sigma_SFR)\"\n",
    "    \"mlim - предельное значение устойчивости для механизма ( для shear_method это значение параметра alpha)\"\n",
    "    \"cut - True\\False\"\n",
    "    \n",
    "    model_map = np.zeros(dist_kpc.shape)\n",
    "    if (model=='shear_method'):\n",
    "        for i, row in enumerate(dist_kpc):\n",
    "            for j, col in enumerate(dist_kpc[0]):\n",
    "                if (0 < mlim * shear_method[i][j]<=1.):\n",
    "                    model_map[i][j] = 1\n",
    "               \n",
    "    if (model=='Sigma_HI') | (model=='Sigma_H2'):\n",
    "        x = np.load('./data/'+model+'.npy')\n",
    "        for i, row in enumerate(dist_kpc):\n",
    "            for j, col in enumerate(dist_kpc[0]):\n",
    "                if (x[i][j] > mlim):\n",
    "                    model_map[i][j] = 1\n",
    "                    \n",
    "    if (model=='Qeff_min') | (model=='Qeff_max') | (model=='Qg'):\n",
    "        x = np.load('./data/'+model+'.npy')\n",
    "        for i, row in enumerate(dist_kpc):\n",
    "            for j, col in enumerate(dist_kpc[0]):\n",
    "                if (x[i][j] < mlim):\n",
    "                    model_map[i][j] = 1  \n",
    "        \n",
    "    SFR_map = np.zeros(dist_kpc.shape)\n",
    "    for i, row in enumerate(dist_kpc):\n",
    "            for j, col in enumerate(dist_kpc[0]):\n",
    "                if (np.log10(Sigma_SFR[i][j]) > slim):\n",
    "                     SFR_map[i][j] = 1\n",
    "    \n",
    "    if (cut):\n",
    "        return SFR_map[60:,:], model_map[60:,:]\n",
    "    else:\n",
    "        return SFR_map, model_map\n",
    "\n",
    "    \n",
    "        \n",
    "        "
   ]
  },
  {
   "cell_type": "code",
   "execution_count": 25,
   "metadata": {},
   "outputs": [],
   "source": [
    "#Sigma_SFR_lim, Qeff_min_lim = maps(model='Qeff_min',slim=-1.75,mlim=3.,cut=True)"
   ]
  },
  {
   "cell_type": "code",
   "execution_count": 28,
   "metadata": {},
   "outputs": [
    {
     "data": {
      "text/plain": [
       "<matplotlib.colorbar.Colorbar at 0x7efbc931ccc0>"
      ]
     },
     "execution_count": 28,
     "metadata": {},
     "output_type": "execute_result"
    },
    {
     "data": {
      "image/png": "[encoded data removed]",
      "text/plain": [
       "<Figure size 648x648 with 2 Axes>"
      ]
     },
     "metadata": {
      "needs_background": "light"
     },
     "output_type": "display_data"
    }
   ],
   "source": [
    "#X,Y = np.meshgrid(np.arange(0.,66,1), np.arange(0.,96,1))\n",
    "#fig = plt.figure(figsize=[9,9])\n",
    "#quadmesh = plt.pcolormesh(X, Y, Qeff_min_lim, cmap='gist_yarg')\n",
    "#plt.colorbar()"
   ]
  },
  {
   "cell_type": "code",
   "execution_count": null,
   "metadata": {},
   "outputs": [],
   "source": []
  }
 ],
 "metadata": {
  "kernelspec": {
   "display_name": "Python 3",
   "language": "python",
   "name": "python3"
  },
  "language_info": {
   "codemirror_mode": {
    "name": "ipython",
    "version": 3
   },
   "file_extension": ".py",
   "mimetype": "text/x-python",
   "name": "python",
   "nbconvert_exporter": "python",
   "pygments_lexer": "ipython3",
   "version": "3.5.2"
  }
 },
 "nbformat": 4,
 "nbformat_minor": 2
}
