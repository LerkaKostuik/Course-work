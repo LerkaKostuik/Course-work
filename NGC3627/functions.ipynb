{
 "cells": [
  {
   "cell_type": "markdown",
   "metadata": {},
   "source": [
    "### В этом файле хранятся все полезные функции"
   ]
  },
  {
   "cell_type": "code",
   "execution_count": 2,
   "metadata": {},
   "outputs": [
    {
     "name": "stdout",
     "output_type": "stream",
     "text": [
      "Using matplotlib backend: TkAgg\n",
      "Populating the interactive namespace from numpy and matplotlib\n"
     ]
    }
   ],
   "source": [
    "%pylab\n",
    "%matplotlib inline\n",
    "import matplotlib.pyplot as plt\n",
    "import os\n",
    "from astropy.io import fits\n",
    "import numpy as np\n",
    "from matplotlib import cm\n",
    "\n",
    "def fits_file_hist(FileName,a,b):    \n",
    "    \"\"\"Строит изображение из fits-файла и гистограму значений каждого пикселя\n",
    "      a, b- ширина и высота картинки, Filename- путь к файлу \"\"\"                                     \n",
    "    data=fits.getdata(FileName)             \n",
    "    data=np.nan_to_num(data)               \n",
    "    width, height=data.shape[2:]        \n",
    "    X,Y=np.meshgrid(np.arange(0,width,1),np.arange(0,height,1))\n",
    "    data = np.array(data).reshape((width,height))\n",
    "    Z=data\n",
    "    fig=plt.figure(figsize=[a,b])     \n",
    "    picture=plt.pcolormesh(X,Y,Z)\n",
    "    plt.colorbar()\n",
    "    \n",
    "    FileName.replace('fits','png')\n",
    "    FileName.replace('data','images')\n",
    "    way=FileName\n",
    "    \n",
    "    plt.savefig(way,format='png')\n",
    "    plt.show()\n",
    "    \n",
    "def fits_file(FileName,a,b):\n",
    "    \"\"\"Строит изображение из fits-файла\"\"\"\n",
    "    data=fits.getdata(FileName)\n",
    "    fig=plt.figure(figsize=[a,b])\n",
    "    \n",
    "   # FileName.replace('fits','png')\n",
    "   # FileName.replace('data','images')\n",
    "    #way=FileName\n",
    "    \n",
    "    plt.imshow(np.squeeze(data))\n",
    "   # plt.savefig(way,format='png')\n",
    "    plt.show()\n"
   ]
  },
  {
   "cell_type": "code",
   "execution_count": null,
   "metadata": {},
   "outputs": [],
   "source": []
  },
  {
   "cell_type": "markdown",
   "metadata": {},
   "source": [
    "## Функции непосредственно связанные с подсчётом параметра Тумре"
   ]
  },
  {
   "cell_type": "code",
   "execution_count": 3,
   "metadata": {},
   "outputs": [],
   "source": [
    "import math\n",
    "G = 4.32"
   ]
  },
  {
   "cell_type": "markdown",
   "metadata": {},
   "source": [
    "### Одножидкостный критерий"
   ]
  },
  {
   "cell_type": "code",
   "execution_count": 4,
   "metadata": {},
   "outputs": [],
   "source": [
    "def Qs( epic_freq = None, disp_r = None, dens_star = None ):\n",
    "    return epic_freq * disp_r / math.pi / G / dens_star"
   ]
  },
  {
   "cell_type": "code",
   "execution_count": 5,
   "metadata": {},
   "outputs": [],
   "source": [
    "def Qg( epic_freq = None, vel_gas = None, dens_gas = None ):\n",
    "    return epic_freq * vel_gas / math.pi / G / dens_gas"
   ]
  },
  {
   "cell_type": "markdown",
   "metadata": {},
   "source": [
    "### Двухжидкостный критерий"
   ]
  },
  {
   "cell_type": "markdown",
   "metadata": {},
   "source": [
    "#### Гидродиномическое приближение"
   ]
  },
  {
   "cell_type": "markdown",
   "metadata": {},
   "source": [
    "$$\\frac{1}{Q_{\\mathrm{eff}}}=\\frac{2}{Q_{\\mathrm{s}}}\\frac{\\bar{k}}{1+\\bar{k}^{2}}+\\frac{2}{Q_{\\mathrm{g}}}s\\frac{\\bar{k}}{1+\\bar{k}^{2}s^{2}}>1$$ для безразмерного волнового числа ${\\displaystyle \\bar{k}\\equiv\\frac{k\\,\\sigma_{\\mathrm{s}}}{\\kappa}},\\, s=c/\\sigma$"
   ]
  },
  {
   "cell_type": "code",
   "execution_count": 6,
   "metadata": {},
   "outputs": [],
   "source": [
    "def QeffHydro(Qs = None, wave_num = None, Qg = None, s = None):\n",
    "    return 1 /( (2*wave_num) / (Qs*(1+wave_num**2))  +  (2*s*wave_num) / (Qg*(1+(wave_num**2)*(s**2))) )"
   ]
  },
  {
   "cell_type": "code",
   "execution_count": 7,
   "metadata": {},
   "outputs": [],
   "source": [
    "def DerivQeffHydro(k = None, Qs = None, Qg = None, s = None):\n",
    "    '''Функция для подсчёта значения производной Qeff в данной точке'''\n",
    "    part1 = (1 - k ** 2) / (1 + k ** 2) ** 2\n",
    "    part2 = (1 - (k * s) ** 2) / (1 + (k * s) ** 2) ** 2\n",
    "    part3 = QeffHydro(Qs = Qs, wave_num = k, Qg = Qg, s = s) \n",
    "    return ( (2 * part1 / Qs) + (2 * s * part2 / Qg) ) * (-1) * part3**2 \n",
    "def FindMaxQeffHydro( rangek = None, Qs = None, Qg = None, s = None):\n",
    "    from scipy.optimize import brentq\n",
    "    '''Функция для нахождения максимума Qeff для гидродинамического приближения '''\n",
    "    signs = [DerivQeffHydro(k = x, Qs = Qs, Qg = Qg, s = s) for x in rangek]\n",
    "    signs = [x/abs(x) for x in signs]\n",
    "   \n",
    "    roots=[]\n",
    "    Qeff_max=[]\n",
    "    for i in range(len(signs)-1):\n",
    "        if signs[i]*signs[i+1] < 0:\n",
    "            roots.append(brentq(lambda x: DerivQeffHydro(k = x, Qs = Qs, Qg = Qg, s = s), rangek[i], rangek[i + 1]))\n",
    "    Qeff_max=[QeffHydro(Qs = Qs, wave_num = x, Qg = Qg, s = s) for x in roots ]\n",
    "    root_max=roots.index(max(Qeff_max))\n",
    "    return root_max, max(Qeff_max)"
   ]
  },
  {
   "cell_type": "markdown",
   "metadata": {},
   "source": [
    "#### Кинетическое приближение"
   ]
  },
  {
   "cell_type": "markdown",
   "metadata": {},
   "source": [
    "$$\\frac{1}{Q_{\\mathrm{eff}}}=\\frac{2}{Q_{\\mathrm{s}}}\\frac{1}{\\bar{k}}\\left[1-e^{-\\bar{k}^{2}}I_{0}(\\bar{k}^{2})\\right]+\\frac{2}{Q_{\\mathrm{g}}}s\\frac{\\bar{k}}{1+\\bar{k}^{2}s^{2}}>1\\,$$\n"
   ]
  },
  {
   "cell_type": "code",
   "execution_count": 9,
   "metadata": {},
   "outputs": [],
   "source": [
    "def QeffKinem(Qs = None, wave_num = None, Qg = None, s = None):\n",
    "    from scipy.special import i0e\n",
    "    return 1 / (2 * (1 - exp(-wave_num**(-2)) * i0e(wave_num**(-2))) / (Qs * wave_num)  +  (2 * s * wave_num) / (Qg * (1+wave_num**2*s**2)))"
   ]
  },
  {
   "cell_type": "code",
   "execution_count": 10,
   "metadata": {},
   "outputs": [],
   "source": [
    "def DerivQeffKinem(k = None, Qs = None, Qg = None, s = None):\n",
    "    '''Функция для подсчёта значения производной Qeff в данной точке'''\n",
    "    from scipy.special import i1e, i0e\n",
    "    part1 = -2 * (1 - exp(-k**(-2)) * i0e(k**(-2))) / Qs / k**2\n",
    "    part2 = 2 * (1 + 2*exp(-k**(-2)) * (k*i0e(k**(-2)) + i1e(k**(-2))/k)) / Qs / k\n",
    "    part3 = 2 * s * (1 - (k*s)**2) / (1 + (k*s)**2)**2 / Qg\n",
    "    part4 = QeffKinem(Qs = Qs, wave_num = k, Qg = Qg, s = s)\n",
    "    return (part1 + part2 + part3) * (-1) * part4**2\n",
    "\n",
    "def FindMaxQeffKinem( rangek = None, Qs = None, Qg = None, s = None):\n",
    "    from scipy.optimize import brentq\n",
    "    '''Функция для нахождения максимума Qeff для кинетического приближения '''\n",
    "    signs = [DerivQeffKinem(k = x, Qs = Qs, Qg = Qg, s = s) for x in rangek]\n",
    "    signs = [x/abs(x) for x in signs]\n",
    "   \n",
    "    roots=[]\n",
    "    Qeff_max=[]\n",
    "    for i in range(len(signs)-1):\n",
    "        if signs[i]*signs[i+1] < 0:\n",
    "            roots.append(brentq(lambda x: DerivQeffKinem(k = x, Qs = Qs, Qg = Qg, s = s), rangek[i], rangek[i + 1]))\n",
    "    Qeff_max=[QeffKinem(Qs = Qs, wave_num = x, Qg = Qg, s = s) for x in roots ]\n",
    "    root_max=roots.index(max(Qeff_max))\n",
    "    return root_max, max(Qeff_max)\n",
    "\n"
   ]
  },
  {
   "cell_type": "code",
   "execution_count": null,
   "metadata": {},
   "outputs": [],
   "source": []
  }
 ],
 "metadata": {
  "kernelspec": {
   "display_name": "Python 3",
   "language": "python",
   "name": "python3"
  },
  "language_info": {
   "codemirror_mode": {
    "name": "ipython",
    "version": 3
   },
   "file_extension": ".py",
   "mimetype": "text/x-python",
   "name": "python",
   "nbconvert_exporter": "python",
   "pygments_lexer": "ipython3",
   "version": "3.5.2"
  }
 },
 "nbformat": 4,
 "nbformat_minor": 2
}
